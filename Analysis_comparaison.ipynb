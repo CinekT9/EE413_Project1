{
 "cells": [
  {
   "cell_type": "markdown",
   "id": "1923bf77",
   "metadata": {},
   "source": [
    "#### (Short for the model trained on the features extracted from the X domain)\n",
    "#### The time domain achieved an accuracy of 61% with 8 features\n",
    "#### The frequency domain achieved an accuracy of 57.3% with 4 features\n",
    "#### The wavelet achieved an accuracy of 36% with 5 features\n",
    "\n",
    "##### Different architectures and parameters were tried, with little (around +- 3%) impact on performance. As long as we stay within reasonable ranges of course (no very high learning rate or just 1 layer of 4 perceptrons, etc...). This tells us that most of the performance variability comes from the number and quality of the features. As such, the frequency features did especially well, needing only 4 features to achieve an accuracy of 57%. The time domain performed the best, but needed 8 features. A correlation analysis was not performed so it is unclear whether some features can be safely ignored with minimal loss in accuracy. The wavelet performed very poorly at 36%. "
   ]
  },
  {
   "cell_type": "markdown",
   "id": "750858a8",
   "metadata": {},
   "source": []
  }
 ],
 "metadata": {
  "language_info": {
   "name": "python"
  }
 },
 "nbformat": 4,
 "nbformat_minor": 5
}
