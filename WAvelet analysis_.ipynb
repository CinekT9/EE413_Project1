{
 "cells": [
  {
   "cell_type": "markdown",
   "id": "43386874",
   "metadata": {},
   "source": [
    "# Main\n",
    "\n"
   ]
  },
  {
   "cell_type": "code",
   "execution_count": 19,
   "id": "344aebf4",
   "metadata": {},
   "outputs": [],
   "source": [
    "# ---------------------------\n",
    "#  Common setup – run first\n",
    "# ---------------------------\n",
    "import os\n",
    "import numpy as np\n",
    "import pandas as pd\n",
    "import matplotlib.pyplot as plt\n",
    "import librosa, librosa.display\n",
    "import scipy.stats\n",
    "import pywt\n",
    "\n",
    "# <<< EDIT this to your recordings folder >>>\n",
    "DATASET_PATH = r'./free-spoken-digit-dataset-master/recordings'\n",
    "\n",
    "# Create a folder for the Excel outputs\n",
    "#OUTPUT_DIR = os.path.join(DATASET_PATH, \"wavelet_features\")\n",
    "#os.makedirs(OUTPUT_DIR, exist_ok=True)\n",
    "OUTPUT_DIR = \"./\"\n",
    "\n",
    "def extract_wavelet_statistics(signal, wavelet='db4', level=5):\n",
    "    \"\"\"\n",
    "    Returns [Energy, Entropy, Mean, Std, Skewness, Kurtosis]\n",
    "    computed from the approximation coefficients of a DWT.\n",
    "    \"\"\"\n",
    "    coeffs = pywt.wavedec(signal, wavelet, level=level)\n",
    "    approximation = coeffs[0]\n",
    "\n",
    "    energy    = np.sum(approximation**2)\n",
    "    entropy   = -np.sum((approximation**2) * np.log(approximation**2 + 1e-12))\n",
    "    mean      = np.mean(approximation)\n",
    "    std       = np.std(approximation)\n",
    "    skewness  = scipy.stats.skew(approximation)\n",
    "    kurtosis  = scipy.stats.kurtosis(approximation)\n",
    "\n",
    "    return [energy, entropy, mean, std, skewness, kurtosis]\n"
   ]
  },
  {
   "cell_type": "markdown",
   "id": "dbada7a8",
   "metadata": {},
   "source": [
    "## **Digit 0 – Wavelet‑feature extraction**"
   ]
  },
  {
   "cell_type": "code",
   "execution_count": 20,
   "id": "ebd3f131",
   "metadata": {},
   "outputs": [
    {
     "name": "stdout",
     "output_type": "stream",
     "text": [
      "  digit    Energy   Entropy      Mean       Std  Skewness  Kurtosis\n",
      "0     0  0.185506  0.954601 -0.004265  0.047666 -0.923130  0.614760\n",
      "1     0  0.073308  0.508679  0.000234  0.021817 -0.372963 -0.274250\n",
      "2     0  0.023292  0.183853 -0.000257  0.011011 -0.483489  1.283257\n",
      "3     0  0.034462  0.261012  0.000890  0.016853 -0.347420 -0.578953\n",
      "4     0  0.045244  0.335343  0.000890  0.018423 -0.592192 -0.566396\n",
      "Digit 0 → (300, 7) saved ✓\n"
     ]
    }
   ],
   "source": [
    "# ---------------------------\n",
    "#  Digit 0\n",
    "# ---------------------------\n",
    "digit_0_files = [f for f in os.listdir(DATASET_PATH) if f.startswith('0_') and f.endswith('.wav')]\n",
    "features_0 = []\n",
    "\n",
    "for file in digit_0_files:\n",
    "    path = os.path.join(DATASET_PATH, file)\n",
    "    signal, _ = librosa.load(path, sr=8000)\n",
    "    features_0.append(extract_wavelet_statistics(signal))\n",
    "\n",
    "df_0 = pd.DataFrame(features_0,\n",
    "                    columns=[\"Energy\", \"Entropy\", \"Mean\", \"Std\", \"Skewness\", \"Kurtosis\"])\n",
    "df_0.insert(0,'digit','0')\n",
    "print(df_0.head())\n",
    "df_0.to_excel(os.path.join(OUTPUT_DIR, \"wavelet_features_digit_0.xlsx\"), index=False)\n",
    "print(\"Digit 0 →\", df_0.shape, \"saved ✓\")\n"
   ]
  },
  {
   "cell_type": "markdown",
   "id": "e2dba22a",
   "metadata": {},
   "source": [
    "## **Digit 0 – Wavelet‑feature extraction**"
   ]
  },
  {
   "cell_type": "code",
   "execution_count": 21,
   "id": "2c583b44",
   "metadata": {},
   "outputs": [
    {
     "name": "stdout",
     "output_type": "stream",
     "text": [
      "  digit    Energy   Entropy      Mean       Std  Skewness  Kurtosis\n",
      "0     1  0.045143  0.337368 -0.000305  0.017462 -0.157394 -0.548039\n",
      "1     1  0.035490  0.275090  0.000702  0.016444 -0.138178 -1.008502\n",
      "2     1  0.036077  0.269992  0.000412  0.016984 -0.437032 -0.190656\n",
      "3     1  0.034700  0.255511 -0.000029  0.017681 -0.281308 -0.293072\n",
      "4     1  0.023726  0.187404 -0.001497  0.015408 -0.042015 -1.192918\n",
      "Digit 1 → (300, 7) saved ✓\n"
     ]
    }
   ],
   "source": [
    "# ---------------------------\n",
    "#  Digit 1\n",
    "# ---------------------------\n",
    "digit_1_files = [f for f in os.listdir(DATASET_PATH) if f.startswith('1_') and f.endswith('.wav')]\n",
    "features_1 = []\n",
    "\n",
    "for file in digit_1_files:\n",
    "    path = os.path.join(DATASET_PATH, file)\n",
    "    signal, _ = librosa.load(path, sr=8000)\n",
    "    features_1.append(extract_wavelet_statistics(signal))\n",
    "\n",
    "df_1 = pd.DataFrame(features_1,\n",
    "                    columns=[\"Energy\", \"Entropy\", \"Mean\", \"Std\", \"Skewness\", \"Kurtosis\"])\n",
    "df_1.insert(0,'digit','1')\n",
    "print(df_1.head())\n",
    "df_1.to_excel(os.path.join(OUTPUT_DIR, \"wavelet_features_digit_1.xlsx\"), index=False)\n",
    "print(\"Digit 1 →\", df_1.shape, \"saved ✓\")\n",
    "\n"
   ]
  },
  {
   "cell_type": "markdown",
   "id": "dcc63fc9",
   "metadata": {},
   "source": [
    "## **Digit 0 – Wavelet‑feature extraction**"
   ]
  },
  {
   "cell_type": "code",
   "execution_count": 22,
   "id": "11ef45c7",
   "metadata": {},
   "outputs": [
    {
     "name": "stdout",
     "output_type": "stream",
     "text": [
      "  digit    Energy   Entropy      Mean       Std  Skewness  Kurtosis\n",
      "0     2  0.067899  0.421240 -0.000438  0.027617 -0.613387  0.749047\n",
      "1     2  0.106736  0.609455 -0.000205  0.026854 -1.165485  3.663145\n",
      "2     2  0.022997  0.169917 -0.000211  0.016351 -0.145542 -0.211035\n",
      "3     2  0.025035  0.184326  0.000189  0.016148 -0.088920  0.006782\n",
      "4     2  0.072516  0.442922 -0.000015  0.026663 -0.564267  1.612200\n",
      "Digit 2 → (300, 7) saved ✓\n"
     ]
    }
   ],
   "source": [
    "# ---------------------------\n",
    "#  Digit 2\n",
    "# ---------------------------\n",
    "digit_2_files = [f for f in os.listdir(DATASET_PATH) if f.startswith('2_') and f.endswith('.wav')]\n",
    "features_2 = []\n",
    "\n",
    "for file in digit_2_files:\n",
    "    path = os.path.join(DATASET_PATH, file)\n",
    "    signal, _ = librosa.load(path, sr=8000)\n",
    "    features_2.append(extract_wavelet_statistics(signal))\n",
    "\n",
    "df_2 = pd.DataFrame(features_2,\n",
    "                    columns=[\"Energy\", \"Entropy\", \"Mean\", \"Std\", \"Skewness\", \"Kurtosis\"])\n",
    "df_2.insert(0,'digit','2')\n",
    "print(df_2.head())\n",
    "df_2.to_excel(os.path.join(OUTPUT_DIR, \"wavelet_features_digit_2.xlsx\"), index=False)\n",
    "print(\"Digit 2 →\", df_2.shape, \"saved ✓\")\n"
   ]
  },
  {
   "cell_type": "markdown",
   "id": "66bb426d",
   "metadata": {},
   "source": [
    "## **Digit 3 – Wavelet‑feature extraction**"
   ]
  },
  {
   "cell_type": "code",
   "execution_count": 23,
   "id": "503572bd",
   "metadata": {},
   "outputs": [
    {
     "name": "stdout",
     "output_type": "stream",
     "text": [
      "  digit    Energy   Entropy      Mean       Std  Skewness  Kurtosis\n",
      "0     3  0.055383  0.365211 -0.000433  0.020557 -0.722002  1.500197\n",
      "1     3  0.047048  0.304835 -0.000324  0.018948 -0.502950  2.800104\n",
      "2     3  0.028475  0.211693 -0.000081  0.015154 -0.400725  0.345138\n",
      "3     3  0.031219  0.227861 -0.000020  0.016924 -0.497237  0.243400\n",
      "4     3  0.022587  0.175264 -0.000356  0.014457 -0.338317  0.011919\n",
      "Digit 3 → (300, 7) saved ✓\n"
     ]
    }
   ],
   "source": [
    "# ---------------------------\n",
    "#  Digit 3\n",
    "# ---------------------------\n",
    "digit_3_files = [f for f in os.listdir(DATASET_PATH) if f.startswith('3_') and f.endswith('.wav')]\n",
    "features_3 = []\n",
    "\n",
    "for file in digit_3_files:\n",
    "    path = os.path.join(DATASET_PATH, file)\n",
    "    signal, _ = librosa.load(path, sr=8000)\n",
    "    features_3.append(extract_wavelet_statistics(signal))\n",
    "\n",
    "df_3 = pd.DataFrame(features_3,\n",
    "                    columns=[\"Energy\", \"Entropy\", \"Mean\", \"Std\", \"Skewness\", \"Kurtosis\"])\n",
    "df_3.insert(0,'digit','3')\n",
    "print(df_3.head())\n",
    "df_3.to_excel(os.path.join(OUTPUT_DIR, \"wavelet_features_digit_3.xlsx\"), index=False)\n",
    "print(\"Digit 3 →\", df_3.shape, \"saved ✓\")\n"
   ]
  },
  {
   "cell_type": "markdown",
   "id": "871b5084",
   "metadata": {},
   "source": [
    "## **Digit 4 – Wavelet‑feature extraction**"
   ]
  },
  {
   "cell_type": "code",
   "execution_count": 24,
   "id": "d173fe57",
   "metadata": {},
   "outputs": [
    {
     "name": "stdout",
     "output_type": "stream",
     "text": [
      "  digit    Energy   Entropy      Mean       Std  Skewness  Kurtosis\n",
      "0     4  0.034370  0.234465 -0.000410  0.017283 -0.062603  1.890362\n",
      "1     4  0.033423  0.237944 -0.000279  0.015394 -0.225716  1.802189\n",
      "2     4  0.012767  0.105034  0.000069  0.011133 -0.334090 -0.007926\n",
      "3     4  0.034339  0.242000 -0.000239  0.016189 -0.023191  1.741035\n",
      "4     4  0.030464  0.208542 -0.000379  0.015798 -0.305272  3.409325\n",
      "Digit 4 → (300, 7) saved ✓\n"
     ]
    }
   ],
   "source": [
    "# ---------------------------\n",
    "#  Digit 4\n",
    "# ---------------------------\n",
    "digit_4_files = [f for f in os.listdir(DATASET_PATH) if f.startswith('4_') and f.endswith('.wav')]\n",
    "features_4 = []\n",
    "\n",
    "for file in digit_4_files:\n",
    "    path = os.path.join(DATASET_PATH, file)\n",
    "    signal, _ = librosa.load(path, sr=8000)\n",
    "    features_4.append(extract_wavelet_statistics(signal))\n",
    "\n",
    "df_4 = pd.DataFrame(features_4,\n",
    "                    columns=[\"Energy\", \"Entropy\", \"Mean\", \"Std\", \"Skewness\", \"Kurtosis\"])\n",
    "df_4.insert(0,'digit','4')\n",
    "print(df_4.head())\n",
    "df_4.to_excel(os.path.join(OUTPUT_DIR, \"wavelet_features_digit_4.xlsx\"), index=False)\n",
    "print(\"Digit 4 →\", df_4.shape, \"saved ✓\")\n"
   ]
  },
  {
   "cell_type": "markdown",
   "id": "bc6fe922",
   "metadata": {},
   "source": [
    "## **Digit 5 – Wavelet‑feature extraction**"
   ]
  },
  {
   "cell_type": "code",
   "execution_count": 25,
   "id": "939419ea",
   "metadata": {},
   "outputs": [
    {
     "name": "stdout",
     "output_type": "stream",
     "text": [
      "  digit    Energy   Entropy      Mean       Std  Skewness  Kurtosis\n",
      "0     5  0.026832  0.203242  0.000252  0.013554 -0.470358  0.971240\n",
      "1     5  0.032281  0.239278  0.000022  0.014670 -0.519781  0.750052\n",
      "2     5  0.025085  0.189701  0.000224  0.016248 -0.456223 -0.199982\n",
      "3     5  0.037154  0.268154 -0.000715  0.019166 -0.151079 -0.366579\n",
      "4     5  0.026047  0.195123 -0.000494  0.015174  0.303036  0.609025\n",
      "Digit 5 → (300, 7) saved ✓\n"
     ]
    }
   ],
   "source": [
    "# ---------------------------\n",
    "#  Digit 5\n",
    "# ---------------------------\n",
    "digit_5_files = [f for f in os.listdir(DATASET_PATH) if f.startswith('5_') and f.endswith('.wav')]\n",
    "features_5 = []\n",
    "\n",
    "for file in digit_5_files:\n",
    "    path = os.path.join(DATASET_PATH, file)\n",
    "    signal, _ = librosa.load(path, sr=8000)\n",
    "    features_5.append(extract_wavelet_statistics(signal))\n",
    "\n",
    "df_5 = pd.DataFrame(features_5,\n",
    "                    columns=[\"Energy\", \"Entropy\", \"Mean\", \"Std\", \"Skewness\", \"Kurtosis\"])\n",
    "df_5.insert(0,'digit','5')\n",
    "print(df_5.head())\n",
    "df_5.to_excel(os.path.join(OUTPUT_DIR, \"wavelet_features_digit_5.xlsx\"), index=False)\n",
    "print(\"Digit 5 →\", df_5.shape, \"saved ✓\")\n"
   ]
  },
  {
   "cell_type": "markdown",
   "id": "c2dc3211",
   "metadata": {},
   "source": [
    "## **Digit 6 – Wavelet‑feature extraction**"
   ]
  },
  {
   "cell_type": "code",
   "execution_count": 26,
   "id": "94a9d6a2",
   "metadata": {},
   "outputs": [
    {
     "name": "stdout",
     "output_type": "stream",
     "text": [
      "  digit    Energy   Entropy      Mean       Std  Skewness   Kurtosis\n",
      "0     6  0.060429  0.347857 -0.000321  0.021077 -1.645293   7.737618\n",
      "1     6  0.018595  0.120047 -0.000050  0.012295 -0.481878  12.073999\n",
      "2     6  0.016362  0.121391 -0.000301  0.012137 -0.983025   2.470375\n",
      "3     6  0.017877  0.125021 -0.000187  0.013303 -1.103123   4.213273\n",
      "4     6  0.013391  0.102082 -0.000178  0.009062 -1.195916   5.405429\n",
      "Digit 6 → (300, 7) saved ✓\n"
     ]
    }
   ],
   "source": [
    "# ---------------------------\n",
    "#  Digit 6\n",
    "# ---------------------------\n",
    "digit_6_files = [f for f in os.listdir(DATASET_PATH) if f.startswith('6_') and f.endswith('.wav')]\n",
    "features_6 = []\n",
    "\n",
    "for file in digit_6_files:\n",
    "    path = os.path.join(DATASET_PATH, file)\n",
    "    signal, _ = librosa.load(path, sr=8000)\n",
    "    features_6.append(extract_wavelet_statistics(signal))\n",
    "\n",
    "df_6 = pd.DataFrame(features_6,\n",
    "                    columns=[\"Energy\", \"Entropy\", \"Mean\", \"Std\", \"Skewness\", \"Kurtosis\"])\n",
    "df_6.insert(0,'digit','6')\n",
    "print(df_6.head())\n",
    "df_6.to_excel(os.path.join(OUTPUT_DIR, \"wavelet_features_digit_6.xlsx\"), index=False)\n",
    "print(\"Digit 6 →\", df_6.shape, \"saved ✓\")\n"
   ]
  },
  {
   "cell_type": "markdown",
   "id": "560f203f",
   "metadata": {},
   "source": [
    "## **Digit 7 – Wavelet‑feature extraction**"
   ]
  },
  {
   "cell_type": "code",
   "execution_count": 27,
   "id": "854bea2f",
   "metadata": {},
   "outputs": [
    {
     "name": "stdout",
     "output_type": "stream",
     "text": [
      "  digit    Energy   Entropy      Mean       Std  Skewness  Kurtosis\n",
      "0     7  0.047900  0.347588 -0.000274  0.016934 -0.345868  0.099103\n",
      "1     7  0.039674  0.294942 -0.000068  0.016050 -0.313683 -0.039791\n",
      "2     7  0.039217  0.282364  0.000147  0.016677 -0.360391  0.870006\n",
      "3     7  0.044556  0.318028 -0.000369  0.017900 -0.264065  0.267423\n",
      "4     7  0.035245  0.267486  0.001225  0.016294 -0.074144 -0.508433\n",
      "Digit 7 → (300, 7) saved ✓\n"
     ]
    }
   ],
   "source": [
    "# ---------------------------\n",
    "#  Digit 7\n",
    "# ---------------------------\n",
    "digit_7_files = [f for f in os.listdir(DATASET_PATH) if f.startswith('7_') and f.endswith('.wav')]\n",
    "features_7 = []\n",
    "\n",
    "for file in digit_7_files:\n",
    "    path = os.path.join(DATASET_PATH, file)\n",
    "    signal, _ = librosa.load(path, sr=8000)\n",
    "    features_7.append(extract_wavelet_statistics(signal))\n",
    "\n",
    "df_7 = pd.DataFrame(features_7,\n",
    "                    columns=[\"Energy\", \"Entropy\", \"Mean\", \"Std\", \"Skewness\", \"Kurtosis\"])\n",
    "df_7.insert(0,'digit','7')\n",
    "print(df_7.head())\n",
    "df_7.to_excel(os.path.join(OUTPUT_DIR, \"wavelet_features_digit_7.xlsx\"), index=False)\n",
    "print(\"Digit 7 →\", df_7.shape, \"saved ✓\")\n"
   ]
  },
  {
   "cell_type": "markdown",
   "id": "39b3d55c",
   "metadata": {},
   "source": [
    "## **Digit 8 – Wavelet‑feature extraction**"
   ]
  },
  {
   "cell_type": "code",
   "execution_count": 28,
   "id": "e6143eb4",
   "metadata": {},
   "outputs": [
    {
     "name": "stdout",
     "output_type": "stream",
     "text": [
      "  digit    Energy   Entropy      Mean       Std  Skewness  Kurtosis\n",
      "0     8  0.041219  0.288481 -0.000245  0.017281 -0.764637  0.988172\n",
      "1     8  0.026372  0.197497 -0.000086  0.013976 -0.581735  0.773968\n",
      "2     8  0.026679  0.195529 -0.000051  0.014849 -0.673485  0.920438\n",
      "3     8  0.038450  0.268862  0.000705  0.018037 -0.519262  1.060240\n",
      "4     8  0.033494  0.231326  0.000114  0.016992 -0.600475  1.666487\n",
      "Digit 8 → (300, 7) saved ✓\n"
     ]
    }
   ],
   "source": [
    "# ---------------------------\n",
    "#  Digit 8\n",
    "# ---------------------------\n",
    "digit_8_files = [f for f in os.listdir(DATASET_PATH) if f.startswith('8_') and f.endswith('.wav')]\n",
    "features_8 = []\n",
    "\n",
    "for file in digit_8_files:\n",
    "    path = os.path.join(DATASET_PATH, file)\n",
    "    signal, _ = librosa.load(path, sr=8000)\n",
    "    features_8.append(extract_wavelet_statistics(signal))\n",
    "\n",
    "df_8 = pd.DataFrame(features_8,\n",
    "                    columns=[\"Energy\", \"Entropy\", \"Mean\", \"Std\", \"Skewness\", \"Kurtosis\"])\n",
    "df_8.insert(0,'digit','8')\n",
    "print(df_8.head())\n",
    "df_8.to_excel(os.path.join(OUTPUT_DIR, \"wavelet_features_digit_8.xlsx\"), index=False)\n",
    "print(\"Digit 8 →\", df_8.shape, \"saved ✓\")\n"
   ]
  },
  {
   "cell_type": "markdown",
   "id": "3aa086b6",
   "metadata": {},
   "source": [
    "## **Digit 9 – Wavelet‑feature extraction**"
   ]
  },
  {
   "cell_type": "code",
   "execution_count": 29,
   "id": "249d83e9",
   "metadata": {},
   "outputs": [
    {
     "name": "stdout",
     "output_type": "stream",
     "text": [
      "  digit    Energy   Entropy      Mean       Std  Skewness   Kurtosis\n",
      "0     9  0.054529  0.390678  0.000509  0.019944 -0.121044  -0.295676\n",
      "1     9  0.047489  0.351470  0.000737  0.019025 -0.204605  -0.949150\n",
      "2     9  0.039540  0.296691 -0.000814  0.017626 -0.220505  -0.859765\n",
      "3     9  0.027641  0.219310 -0.001089  0.015075 -0.227013  -1.183290\n",
      "4     9  0.432085  1.349414  0.011483  0.056954  3.847425  15.575243\n",
      "Digit 9 → (300, 7) saved ✓\n"
     ]
    }
   ],
   "source": [
    "# ---------------------------\n",
    "#  Digit 9\n",
    "# ---------------------------\n",
    "digit_9_files = [f for f in os.listdir(DATASET_PATH) if f.startswith('9_') and f.endswith('.wav')]\n",
    "features_9 = []\n",
    "\n",
    "for file in digit_9_files:\n",
    "    path = os.path.join(DATASET_PATH, file)\n",
    "    signal, _ = librosa.load(path, sr=8000)\n",
    "    features_9.append(extract_wavelet_statistics(signal))\n",
    "\n",
    "df_9 = pd.DataFrame(features_9,\n",
    "                    columns=[\"Energy\", \"Entropy\", \"Mean\", \"Std\", \"Skewness\", \"Kurtosis\"])\n",
    "df_9.insert(0,'digit','9')\n",
    "print(df_9.head())\n",
    "df_9.to_excel(os.path.join(OUTPUT_DIR, \"wavelet_features_digit_9.xlsx\"), index=False)\n",
    "print(\"Digit 9 →\", df_9.shape, \"saved ✓\")\n"
   ]
  }
 ],
 "metadata": {
  "kernelspec": {
   "display_name": ".venv",
   "language": "python",
   "name": "python3"
  },
  "language_info": {
   "codemirror_mode": {
    "name": "ipython",
    "version": 3
   },
   "file_extension": ".py",
   "mimetype": "text/x-python",
   "name": "python",
   "nbconvert_exporter": "python",
   "pygments_lexer": "ipython3",
   "version": "3.11.5"
  },
  "toc": {
   "base_numbering": 1,
   "nav_menu": {},
   "number_sections": true,
   "sideBar": true,
   "skip_h1_title": false,
   "title_cell": "Table of Contents",
   "title_sidebar": "Contents",
   "toc_cell": false,
   "toc_position": {},
   "toc_section_display": true,
   "toc_window_display": false
  }
 },
 "nbformat": 4,
 "nbformat_minor": 5
}
