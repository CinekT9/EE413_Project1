{
 "cells": [
  {
   "cell_type": "markdown",
   "id": "43386874",
   "metadata": {},
   "source": [
    "# Main\n",
    "\n"
   ]
  },
  {
   "cell_type": "code",
   "execution_count": 13,
   "id": "344aebf4",
   "metadata": {},
   "outputs": [],
   "source": [
    "# ---------------------------\n",
    "#  Common setup – run first\n",
    "# ---------------------------\n",
    "import os\n",
    "import numpy as np\n",
    "import pandas as pd\n",
    "import matplotlib.pyplot as plt\n",
    "import librosa, librosa.display\n",
    "import scipy.stats\n",
    "import pywt\n",
    "\n",
    "# <<< EDIT this to your recordings folder >>>\n",
    "DATASET_PATH = r'./free-spoken-digit-dataset-master/recordings/0_jackson_0.wav'\n",
    "\n",
    "# Create a folder for the Excel outputs\n",
    "OUTPUT_DIR = os.path.join(DATASET_PATH, \"wavelet_features\")\n",
    "os.makedirs(OUTPUT_DIR, exist_ok=True)\n",
    "\n",
    "def extract_wavelet_statistics(signal, wavelet='db4', level=5):\n",
    "    \"\"\"\n",
    "    Returns [Energy, Entropy, Mean, Std, Skewness, Kurtosis]\n",
    "    computed from the approximation coefficients of a DWT.\n",
    "    \"\"\"\n",
    "    coeffs = pywt.wavedec(signal, wavelet, level=level)\n",
    "    approximation = coeffs[0]\n",
    "\n",
    "    energy    = np.sum(approximation**2)\n",
    "    entropy   = -np.sum((approximation**2) * np.log(approximation**2 + 1e-12))\n",
    "    mean      = np.mean(approximation)\n",
    "    std       = np.std(approximation)\n",
    "    skewness  = scipy.stats.skew(approximation)\n",
    "    kurtosis  = scipy.stats.kurtosis(approximation)\n",
    "\n",
    "    return [energy, entropy, mean, std, skewness, kurtosis]\n"
   ]
  },
  {
   "cell_type": "markdown",
   "id": "dbada7a8",
   "metadata": {},
   "source": [
    "## **Digit 0 – Wavelet‑feature extraction**"
   ]
  },
  {
   "cell_type": "code",
   "execution_count": 2,
   "id": "ebd3f131",
   "metadata": {},
   "outputs": [
    {
     "name": "stderr",
     "output_type": "stream",
     "text": [
      "C:\\Users\\96655\\anaconda3\\lib\\site-packages\\paramiko\\transport.py:219: CryptographyDeprecationWarning: Blowfish has been deprecated\n",
      "  \"class\": algorithms.Blowfish,\n"
     ]
    },
    {
     "name": "stdout",
     "output_type": "stream",
     "text": [
      "Digit 0 → (300, 6) saved ✓\n"
     ]
    }
   ],
   "source": [
    "# ---------------------------\n",
    "#  Digit 0\n",
    "# ---------------------------\n",
    "digit_0_files = [f for f in os.listdir(DATASET_PATH) if f.startswith('0_') and f.endswith('.wav')]\n",
    "features_0 = []\n",
    "\n",
    "for file in digit_0_files:\n",
    "    path = os.path.join(DATASET_PATH, file)\n",
    "    signal, _ = librosa.load(path, sr=8000)\n",
    "    features_0.append(extract_wavelet_statistics(signal))\n",
    "\n",
    "df_0 = pd.DataFrame(features_0,\n",
    "                    columns=[\"Energy\", \"Entropy\", \"Mean\", \"Std\", \"Skewness\", \"Kurtosis\"])\n",
    "df_0.to_excel(os.path.join(OUTPUT_DIR, \"wavelet_features_digit_0.xlsx\"), index=False)\n",
    "print(\"Digit 0 →\", df_0.shape, \"saved ✓\")\n"
   ]
  },
  {
   "cell_type": "markdown",
   "id": "e2dba22a",
   "metadata": {},
   "source": [
    "## **Digit 0 – Wavelet‑feature extraction**"
   ]
  },
  {
   "cell_type": "code",
   "execution_count": 3,
   "id": "2c583b44",
   "metadata": {},
   "outputs": [
    {
     "name": "stdout",
     "output_type": "stream",
     "text": [
      "Digit 1 → (300, 6) saved ✓\n"
     ]
    }
   ],
   "source": [
    "# ---------------------------\n",
    "#  Digit 1\n",
    "# ---------------------------\n",
    "digit_1_files = [f for f in os.listdir(DATASET_PATH) if f.startswith('1_') and f.endswith('.wav')]\n",
    "features_1 = []\n",
    "\n",
    "for file in digit_1_files:\n",
    "    path = os.path.join(DATASET_PATH, file)\n",
    "    signal, _ = librosa.load(path, sr=8000)\n",
    "    features_1.append(extract_wavelet_statistics(signal))\n",
    "\n",
    "df_1 = pd.DataFrame(features_1,\n",
    "                    columns=[\"Energy\", \"Entropy\", \"Mean\", \"Std\", \"Skewness\", \"Kurtosis\"])\n",
    "df_1.to_excel(os.path.join(OUTPUT_DIR, \"wavelet_features_digit_1.xlsx\"), index=False)\n",
    "print(\"Digit 1 →\", df_1.shape, \"saved ✓\")\n",
    "\n"
   ]
  },
  {
   "cell_type": "markdown",
   "id": "dcc63fc9",
   "metadata": {},
   "source": [
    "## **Digit 0 – Wavelet‑feature extraction**"
   ]
  },
  {
   "cell_type": "code",
   "execution_count": 4,
   "id": "11ef45c7",
   "metadata": {},
   "outputs": [
    {
     "name": "stdout",
     "output_type": "stream",
     "text": [
      "Digit 2 → (300, 6) saved ✓\n"
     ]
    }
   ],
   "source": [
    "# ---------------------------\n",
    "#  Digit 2\n",
    "# ---------------------------\n",
    "digit_2_files = [f for f in os.listdir(DATASET_PATH) if f.startswith('2_') and f.endswith('.wav')]\n",
    "features_2 = []\n",
    "\n",
    "for file in digit_2_files:\n",
    "    path = os.path.join(DATASET_PATH, file)\n",
    "    signal, _ = librosa.load(path, sr=8000)\n",
    "    features_2.append(extract_wavelet_statistics(signal))\n",
    "\n",
    "df_2 = pd.DataFrame(features_2,\n",
    "                    columns=[\"Energy\", \"Entropy\", \"Mean\", \"Std\", \"Skewness\", \"Kurtosis\"])\n",
    "df_2.to_excel(os.path.join(OUTPUT_DIR, \"wavelet_features_digit_2.xlsx\"), index=False)\n",
    "print(\"Digit 2 →\", df_2.shape, \"saved ✓\")\n"
   ]
  },
  {
   "cell_type": "markdown",
   "id": "66bb426d",
   "metadata": {},
   "source": [
    "## **Digit 3 – Wavelet‑feature extraction**"
   ]
  },
  {
   "cell_type": "code",
   "execution_count": 5,
   "id": "503572bd",
   "metadata": {},
   "outputs": [
    {
     "name": "stdout",
     "output_type": "stream",
     "text": [
      "Digit 3 → (300, 6) saved ✓\n"
     ]
    }
   ],
   "source": [
    "# ---------------------------\n",
    "#  Digit 3\n",
    "# ---------------------------\n",
    "digit_3_files = [f for f in os.listdir(DATASET_PATH) if f.startswith('3_') and f.endswith('.wav')]\n",
    "features_3 = []\n",
    "\n",
    "for file in digit_3_files:\n",
    "    path = os.path.join(DATASET_PATH, file)\n",
    "    signal, _ = librosa.load(path, sr=8000)\n",
    "    features_3.append(extract_wavelet_statistics(signal))\n",
    "\n",
    "df_3 = pd.DataFrame(features_3,\n",
    "                    columns=[\"Energy\", \"Entropy\", \"Mean\", \"Std\", \"Skewness\", \"Kurtosis\"])\n",
    "df_3.to_excel(os.path.join(OUTPUT_DIR, \"wavelet_features_digit_3.xlsx\"), index=False)\n",
    "print(\"Digit 3 →\", df_3.shape, \"saved ✓\")\n"
   ]
  },
  {
   "cell_type": "markdown",
   "id": "871b5084",
   "metadata": {},
   "source": [
    "## **Digit 4 – Wavelet‑feature extraction**"
   ]
  },
  {
   "cell_type": "code",
   "execution_count": 6,
   "id": "d173fe57",
   "metadata": {},
   "outputs": [
    {
     "name": "stdout",
     "output_type": "stream",
     "text": [
      "Digit 4 → (300, 6) saved ✓\n"
     ]
    }
   ],
   "source": [
    "# ---------------------------\n",
    "#  Digit 4\n",
    "# ---------------------------\n",
    "digit_4_files = [f for f in os.listdir(DATASET_PATH) if f.startswith('4_') and f.endswith('.wav')]\n",
    "features_4 = []\n",
    "\n",
    "for file in digit_4_files:\n",
    "    path = os.path.join(DATASET_PATH, file)\n",
    "    signal, _ = librosa.load(path, sr=8000)\n",
    "    features_4.append(extract_wavelet_statistics(signal))\n",
    "\n",
    "df_4 = pd.DataFrame(features_4,\n",
    "                    columns=[\"Energy\", \"Entropy\", \"Mean\", \"Std\", \"Skewness\", \"Kurtosis\"])\n",
    "df_4.to_excel(os.path.join(OUTPUT_DIR, \"wavelet_features_digit_4.xlsx\"), index=False)\n",
    "print(\"Digit 4 →\", df_4.shape, \"saved ✓\")\n"
   ]
  },
  {
   "cell_type": "markdown",
   "id": "bc6fe922",
   "metadata": {},
   "source": [
    "## **Digit 5 – Wavelet‑feature extraction**"
   ]
  },
  {
   "cell_type": "code",
   "execution_count": 7,
   "id": "939419ea",
   "metadata": {},
   "outputs": [
    {
     "name": "stdout",
     "output_type": "stream",
     "text": [
      "Digit 5 → (300, 6) saved ✓\n"
     ]
    }
   ],
   "source": [
    "# ---------------------------\n",
    "#  Digit 5\n",
    "# ---------------------------\n",
    "digit_5_files = [f for f in os.listdir(DATASET_PATH) if f.startswith('5_') and f.endswith('.wav')]\n",
    "features_5 = []\n",
    "\n",
    "for file in digit_5_files:\n",
    "    path = os.path.join(DATASET_PATH, file)\n",
    "    signal, _ = librosa.load(path, sr=8000)\n",
    "    features_5.append(extract_wavelet_statistics(signal))\n",
    "\n",
    "df_5 = pd.DataFrame(features_5,\n",
    "                    columns=[\"Energy\", \"Entropy\", \"Mean\", \"Std\", \"Skewness\", \"Kurtosis\"])\n",
    "df_5.to_excel(os.path.join(OUTPUT_DIR, \"wavelet_features_digit_5.xlsx\"), index=False)\n",
    "print(\"Digit 5 →\", df_5.shape, \"saved ✓\")\n"
   ]
  },
  {
   "cell_type": "markdown",
   "id": "c2dc3211",
   "metadata": {},
   "source": [
    "## **Digit 6 – Wavelet‑feature extraction**"
   ]
  },
  {
   "cell_type": "code",
   "execution_count": 8,
   "id": "94a9d6a2",
   "metadata": {},
   "outputs": [
    {
     "name": "stdout",
     "output_type": "stream",
     "text": [
      "Digit 6 → (300, 6) saved ✓\n"
     ]
    }
   ],
   "source": [
    "# ---------------------------\n",
    "#  Digit 6\n",
    "# ---------------------------\n",
    "digit_6_files = [f for f in os.listdir(DATASET_PATH) if f.startswith('6_') and f.endswith('.wav')]\n",
    "features_6 = []\n",
    "\n",
    "for file in digit_6_files:\n",
    "    path = os.path.join(DATASET_PATH, file)\n",
    "    signal, _ = librosa.load(path, sr=8000)\n",
    "    features_6.append(extract_wavelet_statistics(signal))\n",
    "\n",
    "df_6 = pd.DataFrame(features_6,\n",
    "                    columns=[\"Energy\", \"Entropy\", \"Mean\", \"Std\", \"Skewness\", \"Kurtosis\"])\n",
    "df_6.to_excel(os.path.join(OUTPUT_DIR, \"wavelet_features_digit_6.xlsx\"), index=False)\n",
    "print(\"Digit 6 →\", df_6.shape, \"saved ✓\")\n"
   ]
  },
  {
   "cell_type": "markdown",
   "id": "560f203f",
   "metadata": {},
   "source": [
    "## **Digit 7 – Wavelet‑feature extraction**"
   ]
  },
  {
   "cell_type": "code",
   "execution_count": 9,
   "id": "854bea2f",
   "metadata": {},
   "outputs": [
    {
     "name": "stdout",
     "output_type": "stream",
     "text": [
      "Digit 7 → (300, 6) saved ✓\n"
     ]
    }
   ],
   "source": [
    "# ---------------------------\n",
    "#  Digit 7\n",
    "# ---------------------------\n",
    "digit_7_files = [f for f in os.listdir(DATASET_PATH) if f.startswith('7_') and f.endswith('.wav')]\n",
    "features_7 = []\n",
    "\n",
    "for file in digit_7_files:\n",
    "    path = os.path.join(DATASET_PATH, file)\n",
    "    signal, _ = librosa.load(path, sr=8000)\n",
    "    features_7.append(extract_wavelet_statistics(signal))\n",
    "\n",
    "df_7 = pd.DataFrame(features_7,\n",
    "                    columns=[\"Energy\", \"Entropy\", \"Mean\", \"Std\", \"Skewness\", \"Kurtosis\"])\n",
    "df_7.to_excel(os.path.join(OUTPUT_DIR, \"wavelet_features_digit_7.xlsx\"), index=False)\n",
    "print(\"Digit 7 →\", df_7.shape, \"saved ✓\")\n"
   ]
  },
  {
   "cell_type": "markdown",
   "id": "39b3d55c",
   "metadata": {},
   "source": [
    "## **Digit 8 – Wavelet‑feature extraction**"
   ]
  },
  {
   "cell_type": "code",
   "execution_count": 10,
   "id": "e6143eb4",
   "metadata": {},
   "outputs": [
    {
     "name": "stdout",
     "output_type": "stream",
     "text": [
      "Digit 8 → (300, 6) saved ✓\n"
     ]
    }
   ],
   "source": [
    "# ---------------------------\n",
    "#  Digit 8\n",
    "# ---------------------------\n",
    "digit_8_files = [f for f in os.listdir(DATASET_PATH) if f.startswith('8_') and f.endswith('.wav')]\n",
    "features_8 = []\n",
    "\n",
    "for file in digit_8_files:\n",
    "    path = os.path.join(DATASET_PATH, file)\n",
    "    signal, _ = librosa.load(path, sr=8000)\n",
    "    features_8.append(extract_wavelet_statistics(signal))\n",
    "\n",
    "df_8 = pd.DataFrame(features_8,\n",
    "                    columns=[\"Energy\", \"Entropy\", \"Mean\", \"Std\", \"Skewness\", \"Kurtosis\"])\n",
    "df_8.to_excel(os.path.join(OUTPUT_DIR, \"wavelet_features_digit_8.xlsx\"), index=False)\n",
    "print(\"Digit 8 →\", df_8.shape, \"saved ✓\")\n"
   ]
  },
  {
   "cell_type": "markdown",
   "id": "3aa086b6",
   "metadata": {},
   "source": [
    "## **Digit 9 – Wavelet‑feature extraction**"
   ]
  },
  {
   "cell_type": "code",
   "execution_count": 11,
   "id": "249d83e9",
   "metadata": {},
   "outputs": [
    {
     "name": "stdout",
     "output_type": "stream",
     "text": [
      "Digit 9 → (300, 6) saved ✓\n"
     ]
    }
   ],
   "source": [
    "# ---------------------------\n",
    "#  Digit 9\n",
    "# ---------------------------\n",
    "digit_9_files = [f for f in os.listdir(DATASET_PATH) if f.startswith('9_') and f.endswith('.wav')]\n",
    "features_9 = []\n",
    "\n",
    "for file in digit_9_files:\n",
    "    path = os.path.join(DATASET_PATH, file)\n",
    "    signal, _ = librosa.load(path, sr=8000)\n",
    "    features_9.append(extract_wavelet_statistics(signal))\n",
    "\n",
    "df_9 = pd.DataFrame(features_9,\n",
    "                    columns=[\"Energy\", \"Entropy\", \"Mean\", \"Std\", \"Skewness\", \"Kurtosis\"])\n",
    "df_9.to_excel(os.path.join(OUTPUT_DIR, \"wavelet_features_digit_9.xlsx\"), index=False)\n",
    "print(\"Digit 9 →\", df_9.shape, \"saved ✓\")\n"
   ]
  }
 ],
 "metadata": {
  "kernelspec": {
   "display_name": "Python 3 (ipykernel)",
   "language": "python",
   "name": "python3"
  },
  "language_info": {
   "codemirror_mode": {
    "name": "ipython",
    "version": 3
   },
   "file_extension": ".py",
   "mimetype": "text/x-python",
   "name": "python",
   "nbconvert_exporter": "python",
   "pygments_lexer": "ipython3",
   "version": "3.9.13"
  },
  "toc": {
   "base_numbering": 1,
   "nav_menu": {},
   "number_sections": true,
   "sideBar": true,
   "skip_h1_title": false,
   "title_cell": "Table of Contents",
   "title_sidebar": "Contents",
   "toc_cell": false,
   "toc_position": {},
   "toc_section_display": true,
   "toc_window_display": false
  }
 },
 "nbformat": 4,
 "nbformat_minor": 5
}
